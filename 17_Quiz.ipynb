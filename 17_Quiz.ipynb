{
 "metadata": {
  "language_info": {
   "codemirror_mode": {
    "name": "ipython",
    "version": 3
   },
   "file_extension": ".py",
   "mimetype": "text/x-python",
   "name": "python",
   "nbconvert_exporter": "python",
   "pygments_lexer": "ipython3",
   "version": "3.8.5-final"
  },
  "orig_nbformat": 2,
  "kernelspec": {
   "name": "python3",
   "display_name": "Python 3",
   "language": "python"
  }
 },
 "nbformat": 4,
 "nbformat_minor": 2,
 "cells": [
  {
   "source": [
    "# Quiz\n",
    "- 출석 10\n",
    "- 퀴즈1 10\n",
    "- 퀴즈2 10 \n",
    "- 중간고사 20\n",
    "- 기말고사 30\n",
    "- 프로젝트 20 \n",
    "\n",
    "- 학번, 출석, 퀴즈1, 퀴즈2, 중간고사, 기말고사, 프로젝트, 총점, 학점\n",
    "- 퀴즈2 는 모두 만점 처리 \n",
    "- 90~ A, 80~ B, 70~ C, 나머지 D, 출석 5 미만 총점에 관계없이 F "
   ],
   "cell_type": "markdown",
   "metadata": {}
  },
  {
   "cell_type": "code",
   "execution_count": 50,
   "metadata": {},
   "outputs": [],
   "source": [
    "from openpyxl import Workbook\n",
    "from random import *\n",
    "\n",
    "wb = Workbook()\n",
    "ws = wb.active"
   ]
  },
  {
   "cell_type": "code",
   "execution_count": 51,
   "metadata": {},
   "outputs": [],
   "source": [
    "ws.append([\"학번\",\"출석\",\"퀴즈1\",\"퀴즈2\",\"중간고사\",\"기말고사\",\"프로젝트\",\"총점\",\"학점\"])"
   ]
  },
  {
   "source": [
    "## 데이터 넣기 "
   ],
   "cell_type": "markdown",
   "metadata": {}
  },
  {
   "source": [
    "for i in range(1,11):\n",
    "    ws.append([i,randint(3,10),randint(5,10),randint(5,10),randint(10,20),randint(15,30),randint(10,20)])\n"
   ],
   "cell_type": "code",
   "metadata": {},
   "execution_count": 52,
   "outputs": []
  },
  {
   "source": [
    "## 퀴즈2 점수 수정  ( 모두 10점 만점 으로 갱신 )"
   ],
   "cell_type": "markdown",
   "metadata": {}
  },
  {
   "cell_type": "code",
   "execution_count": 53,
   "metadata": {},
   "outputs": [
    {
     "output_type": "stream",
     "name": "stdout",
     "text": [
      "Before fix 퀴즈2\n퀴즈2\n5\n10\n9\n6\n10\n7\n7\n9\n8\n9\nAfter fix 퀴즈2\n퀴즈2\n10\n10\n10\n10\n10\n10\n10\n10\n10\n10\n"
     ]
    }
   ],
   "source": [
    "row_range = ws[1:ws.max_row]\n",
    "print(\"Before fix 퀴즈2\")\n",
    "for row in row_range:\n",
    "    print(row[3].value)\n",
    "\n",
    "row_range = ws[2:ws.max_row]\n",
    "for row in row_range:\n",
    "    row[3].value = 10\n",
    "\n",
    "print(\"After fix 퀴즈2\")\n",
    "row_range = ws[1:ws.max_row]\n",
    "for row in row_range:\n",
    "    print(row[3].value)\n",
    "\n",
    "## Teacher sol. \n",
    "# for inx, cell in enumerate(ws[\"D\"]):\n",
    "#     if idx ==0:   # 제목인 경우 skip \n",
    "#         continue\n",
    "#     cell.value = 10 "
   ]
  },
  {
   "source": [
    "## 총점 계산 "
   ],
   "cell_type": "markdown",
   "metadata": {}
  },
  {
   "cell_type": "code",
   "execution_count": 1,
   "metadata": {},
   "outputs": [
    {
     "output_type": "error",
     "ename": "SyntaxError",
     "evalue": "invalid syntax (<ipython-input-1-d9a8d1e6c9d2>, line 27)",
     "traceback": [
      "\u001b[1;36m  File \u001b[1;32m\"<ipython-input-1-d9a8d1e6c9d2>\"\u001b[1;36m, line \u001b[1;32m27\u001b[0m\n\u001b[1;33m    grade =\u001b[0m\n\u001b[1;37m            ^\u001b[0m\n\u001b[1;31mSyntaxError\u001b[0m\u001b[1;31m:\u001b[0m invalid syntax\n"
     ]
    }
   ],
   "source": [
    "row_range = ws[2:ws.max_row]\n",
    "\n",
    "for row in row_range:\n",
    "    sum = 0 \n",
    "    for i in range(1,7):\n",
    "        sum = sum + row[i].value\n",
    "    row[7].value = sum\n",
    "\n",
    "# ##### Teacher sol.  #####\n",
    "# scores = [\n",
    "#     (1,10, 8, 5, 14, 26, 12), \n",
    "#     ......\n",
    "# ]\n",
    "\n",
    "# ws[\"H1\"] = \"총점\"\n",
    "# ws[\"I1\"] = \"성적\"\n",
    "\n",
    "# for idx, score in enumerate(scores, start=2):\n",
    "#     sum_val = sum(score[1:]) - score[3] +10 \n",
    "#     ws.cell(row=idx, column = 8).value = \"=SUM(B{}:G{}\".format(idx, idx)\n",
    "\n",
    "#     grade = None\n",
    "#     if sum_val >=90:\n",
    "#         grade = \"A\"\n",
    "#     elif sum_val >=80:\n",
    "#         grade = \"B\"\n",
    "#     elif sum_val >=70:\n",
    "#         grade = \"C\"\n",
    "#     else:\n",
    "#         grade = \"D\"\n",
    "#     if score[1] < 5:\n",
    "#         grade = \"F\"\n",
    "    \n",
    "#     ws.cell(row=idx, column).value = grade  # I 열에 성적 정보 추가 \n"
   ]
  },
  {
   "source": [
    "## 학점 계산"
   ],
   "cell_type": "markdown",
   "metadata": {}
  },
  {
   "cell_type": "code",
   "execution_count": 55,
   "metadata": {},
   "outputs": [],
   "source": [
    "row_range = ws[2:ws.max_row]\n",
    "for row in row_range:\n",
    "    if row[1].value < 5:\n",
    "        row[8].value = \"F\"\n",
    "    elif row[7].value >= 90:\n",
    "        row[8].value = \"A\"\n",
    "    elif row[7].value >= 80:\n",
    "        row[8].value = \"B\"\n",
    "    elif row[7].value >=70:\n",
    "        row[8].value = \"C\"\n",
    "    else:\n",
    "        row[8].value = \"D\""
   ]
  },
  {
   "cell_type": "code",
   "execution_count": 56,
   "metadata": {},
   "outputs": [],
   "source": [
    "wb.save(\"quiz_1.xlsx\")"
   ]
  },
  {
   "cell_type": "code",
   "execution_count": null,
   "metadata": {},
   "outputs": [],
   "source": []
  }
 ]
}