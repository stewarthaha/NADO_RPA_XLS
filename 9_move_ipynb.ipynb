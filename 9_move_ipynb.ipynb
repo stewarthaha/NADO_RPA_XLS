{
 "metadata": {
  "language_info": {
   "codemirror_mode": {
    "name": "ipython",
    "version": 3
   },
   "file_extension": ".py",
   "mimetype": "text/x-python",
   "name": "python",
   "nbconvert_exporter": "python",
   "pygments_lexer": "ipython3",
   "version": "3.8.5-final"
  },
  "orig_nbformat": 2,
  "kernelspec": {
   "name": "python3",
   "display_name": "Python 3",
   "language": "python"
  }
 },
 "nbformat": 4,
 "nbformat_minor": 2,
 "cells": [
  {
   "source": [
    "# 이동\n",
    "## 두번째 column 에 국어 점수 추가 "
   ],
   "cell_type": "markdown",
   "metadata": {}
  },
  {
   "cell_type": "code",
   "execution_count": 42,
   "metadata": {},
   "outputs": [],
   "source": [
    "from openpyxl import load_workbook\n",
    "from random import *\n",
    "\n",
    "wb = load_workbook(\"sample.xlsx\")\n",
    "ws = wb.active"
   ]
  },
  {
   "source": [
    "## 번호 영어 수학 \n",
    "--> 번호 국어, 영어, 수학"
   ],
   "cell_type": "markdown",
   "metadata": {}
  },
  {
   "source": [
    "ws.move_range(\"B1:C11\", rows=0, cols = 1) # 영어, 수학 점수란을 위/아래는 그대로, 오른쪽으로 한 칸 옮김\n",
    "ws[\"B1\"].value = \"국어\"  \n",
    "row_range = ws[2:ws.max_row]  # 2번째 줄부터 마지막 줄까지 \n",
    "for rows in row_range:\n",
    "    rows[1].value=randint(0,100)\n"
   ],
   "cell_type": "code",
   "metadata": {},
   "execution_count": 43,
   "outputs": []
  },
  {
   "cell_type": "code",
   "execution_count": 44,
   "metadata": {},
   "outputs": [
    {
     "output_type": "stream",
     "name": "stdout",
     "text": [
      "번호 국어 영어 수학 \n1 67 52 22 \n2 82 58 44 \n3 93 76 62 \n4 84 33 97 \n5 44 76 64 \n6 65 84 30 \n7 79 22 97 \n8 4 75 81 \n9 2 92 25 \n10 27 65 10 \n"
     ]
    }
   ],
   "source": [
    "for row in ws.iter_rows():\n",
    "    print(row[0].value, row[1].value, row[2].value, row[3].value, end=\" \" )\n",
    "    print()\n",
    "\n"
   ]
  },
  {
   "cell_type": "code",
   "execution_count": 45,
   "metadata": {},
   "outputs": [],
   "source": [
    "ws.move_range(\"D1:D11\",rows=5, cols=-1) #번호,국어,영어,수학--> 번호,국,수,영"
   ]
  },
  {
   "cell_type": "code",
   "execution_count": 46,
   "metadata": {},
   "outputs": [],
   "source": [
    "wb.save(\"sample_add_korean.xlsx\")"
   ]
  },
  {
   "cell_type": "code",
   "execution_count": null,
   "metadata": {},
   "outputs": [],
   "source": []
  }
 ]
}