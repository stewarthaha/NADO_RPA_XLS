{
 "metadata": {
  "language_info": {
   "codemirror_mode": {
    "name": "ipython",
    "version": 3
   },
   "file_extension": ".py",
   "mimetype": "text/x-python",
   "name": "python",
   "nbconvert_exporter": "python",
   "pygments_lexer": "ipython3",
   "version": "3.8.5-final"
  },
  "orig_nbformat": 2,
  "kernelspec": {
   "name": "python3",
   "display_name": "Python 3",
   "language": "python"
  }
 },
 "nbformat": 4,
 "nbformat_minor": 2,
 "cells": [
  {
   "source": [
    "# Create Sample Data "
   ],
   "cell_type": "markdown",
   "metadata": {}
  },
  {
   "cell_type": "code",
   "execution_count": 1,
   "metadata": {},
   "outputs": [
    {
     "output_type": "stream",
     "name": "stdout",
     "text": [
      "번호 영어 수학 None None None None None None None \n1 65 95 None None None None None None None \n2 97 74 None None None None None None None \n3 45 50 None None None None None None None \n4 13 65 None None None None None None None \n5 10 38 None None None None None None None \n6 33 13 None None None None None None None \n7 58 10 None None None None None None None \n8 24 62 None None None None None None None \n9 71 17 None None None None None None None \n번호 영어 수학 None None None None None None None \n1 65 95 None None None None None None None \n2 97 74 None None None None None None None \n3 45 50 None None None None None None None \n4 13 65 None None None None None None None \n5 10 38 None None None None None None None \n6 33 13 None None None None None None None \n7 58 10 None None None None None None None \n8 24 62 None None None None None None None \n9 71 17 None None None None None None None \n10 55 2 None None None None None None None \n"
     ]
    }
   ],
   "source": [
    "from openpyxl import load_workbook  # 파일 불러오기\n",
    "\n",
    "wb = load_workbook(\"sample.xlsx\")\n",
    "ws = wb.active  # 활성화 된 sheet\n",
    "\n",
    "# cell 데이터 불러오기 \n",
    "for x in range (1,11):\n",
    "    for y in range(1, 11):\n",
    "        print(ws.cell(row=x,column=y).value, end=\" \")\n",
    "    print()\n",
    "\n",
    "# cell 갯수를 모를때 \n",
    "for x in range (1, ws.max_row +1):\n",
    "    for y in range(1,ws.max_column+1):\n",
    "        print(ws.cell(row=x,column=y).value, end=\" \")\n",
    "    print()  "
   ]
  },
  {
   "cell_type": "code",
   "execution_count": null,
   "metadata": {},
   "outputs": [],
   "source": []
  }
 ]
}