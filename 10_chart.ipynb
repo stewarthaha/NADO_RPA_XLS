{
 "metadata": {
  "language_info": {
   "codemirror_mode": {
    "name": "ipython",
    "version": 3
   },
   "file_extension": ".py",
   "mimetype": "text/x-python",
   "name": "python",
   "nbconvert_exporter": "python",
   "pygments_lexer": "ipython3",
   "version": "3.8.5-final"
  },
  "orig_nbformat": 2,
  "kernelspec": {
   "name": "python3",
   "display_name": "Python 3",
   "language": "python"
  }
 },
 "nbformat": 4,
 "nbformat_minor": 2,
 "cells": [
  {
   "source": [
    "# Chart 그리기 "
   ],
   "cell_type": "markdown",
   "metadata": {}
  },
  {
   "cell_type": "code",
   "execution_count": 16,
   "metadata": {},
   "outputs": [],
   "source": [
    "from openpyxl import load_workbook\n",
    "from openpyxl.chart import BarChart, Reference, LineChart\n",
    "wb = load_workbook(\"sample.xlsx\")\n",
    "ws = wb.active\n"
   ]
  },
  {
   "source": [
    "## B2: C11 까지의 데이터를 차트로 생성 \n",
    "### legend 가 계열1,계열2 .. 로 표시됨. "
   ],
   "cell_type": "markdown",
   "metadata": {}
  },
  {
   "cell_type": "code",
   "execution_count": 18,
   "metadata": {},
   "outputs": [],
   "source": [
    "bar_value = Reference(ws, min_row=2, max_row=11, min_col=2, max_col=3) # 데이터 범위 지정 \n",
    "bar_chart = BarChart()          # 차트 종류 설정 ( Bar, Line, Pie, ...) \n",
    "bar_chart.add_data(bar_value)    # 차트 데이터 추가 \n",
    "\n",
    "ws.add_chart(bar_chart, \"E1\")  # 차트 넣을 위치 \n"
   ]
  },
  {
   "source": [
    "## Line Chart\n",
    "### B1:C11 까지의 데이터, 첫번째 row 값(영어/수학) 으로 제목 설정\n",
    "### https://openpyxl.readthedocs.io/en/stable/charts/line.html  참고"
   ],
   "cell_type": "markdown",
   "metadata": {}
  },
  {
   "cell_type": "code",
   "execution_count": 19,
   "metadata": {},
   "outputs": [],
   "source": [
    "line_value = Reference(ws, min_row=1, max_row=11, min_col=2, max_col=3)\n",
    "line_chart = LineChart()\n",
    "line_chart.add_data(line_value, titles_from_data=True)  \n",
    "# 계열1, 계열2 로 되었던 것을 영어, 수학  으로 변경/첫번째 row 값 사용함. \n",
    "\n",
    "line_chart.title = \"성적표\" # 제목\n",
    "line_chart.style = 10 # 미리 정의된 스타일 적용, 사용자 개별 지정도 가능 \n",
    "line_chart.y_axis.title = \"점수\"\n",
    "line_chart.x_axis.title = \"번호\"\n",
    "ws.add_chart(line_chart, \"A15\")\n",
    "wb.save(\"sample_chart.xlsx\")\n",
    "\n"
   ]
  },
  {
   "cell_type": "code",
   "execution_count": null,
   "metadata": {},
   "outputs": [],
   "source": []
  }
 ]
}