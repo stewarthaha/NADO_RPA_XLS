{
 "metadata": {
  "language_info": {
   "codemirror_mode": {
    "name": "ipython",
    "version": 3
   },
   "file_extension": ".py",
   "mimetype": "text/x-python",
   "name": "python",
   "nbconvert_exporter": "python",
   "pygments_lexer": "ipython3",
   "version": "3.8.5-final"
  },
  "orig_nbformat": 2,
  "kernelspec": {
   "name": "python3",
   "display_name": "Python 3",
   "language": "python"
  }
 },
 "nbformat": 4,
 "nbformat_minor": 2,
 "cells": [
  {
   "cell_type": "code",
   "execution_count": 43,
   "metadata": {},
   "outputs": [],
   "source": [
    "from openpyxl import load_workbook\n",
    "from openpyxl.styles import Font, Border, Side, PatternFill, Alignment\n",
    "wb = load_workbook(\"sample.xlsx\")\n",
    "ws = wb.active"
   ]
  },
  {
   "cell_type": "code",
   "execution_count": 44,
   "metadata": {},
   "outputs": [],
   "source": [
    "a1 = ws[\"A1\"]   # 번호\n",
    "b1 = ws[\"B1\"]   # 영어\n",
    "c1 = ws[\"C1\"]   # 수학\n",
    "\n",
    "# 열 너비 설정\n",
    "ws.column_dimensions[\"A\"].width = 5\n",
    "ws.column_dimensions[\"A\"].width = 10\n",
    "ws.column_dimensions[\"A\"].width = 10\n",
    "\n",
    "# 행  높이 설정 \n",
    "ws.row_dimensions[1].height = 30\n",
    "\n",
    "# 스타일 적용\n",
    "a1.font = Font(color=\"FF0000\", italic = True, bold = True)\n",
    "b1.font = Font(color=\"CC33FF\", name = \"Arial\", strike = True)\n",
    "c1.font = Font(color = \"0000FF\", size = 20, underline=\"single\")"
   ]
  },
  {
   "source": [
    "## 테두리 적용"
   ],
   "cell_type": "markdown",
   "metadata": {}
  },
  {
   "cell_type": "code",
   "execution_count": 45,
   "metadata": {},
   "outputs": [],
   "source": [
    " thin_border = Border(left=Side(style=\"thin\"), right=Side(style=\"thin\"), top =Side(style=\"thin\"), bottom=Side(style=\"thin\"))\n",
    " a1.border = thin_border\n",
    " b1.border = thin_border\n",
    " c1.border = thin_border\n",
    " "
   ]
  },
  {
   "source": [
    "## 90점 넘는 셀에 대해서 초록색으로 적용"
   ],
   "cell_type": "markdown",
   "metadata": {}
  },
  {
   "cell_type": "code",
   "execution_count": 46,
   "metadata": {},
   "outputs": [],
   "source": [
    "for row in ws.rows:\n",
    "    for cell in row:\n",
    "\n",
    "        # 각 정렬\n",
    "        # center, left, right, top, bottom\n",
    "        cell.alignment = Alignment(horizontal=\"center\", vertical=\"center\")\n",
    "\n",
    "        if cell.column == 1: \n",
    "            cell.alignment=Alignment(horizontal=\"right\", vertical=\"center\")\n",
    "            continue        # 번호 열은 제외\n",
    "\n",
    "        # 셀이 정수형 데이터이고 90점 보다 높으면...\n",
    "        if isinstance(cell.value, int) and cell.value > 90 : \n",
    "            cell.fill = PatternFill(fgColor = \"00FF00\", fill_type = \"solid\")\n",
    "            cell.font = Font(color=\"FF0000\")"
   ]
  },
  {
   "source": [
    "## 틀고정"
   ],
   "cell_type": "markdown",
   "metadata": {}
  },
  {
   "cell_type": "code",
   "execution_count": 48,
   "metadata": {},
   "outputs": [],
   "source": [
    "ws.freeze_panes = \"B2\""
   ]
  },
  {
   "cell_type": "code",
   "execution_count": 49,
   "metadata": {},
   "outputs": [],
   "source": [
    "wb.save(\"11_cell_style.xlsx\")"
   ]
  }
 ]
}