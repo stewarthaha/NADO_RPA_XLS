{
 "metadata": {
  "language_info": {
   "codemirror_mode": {
    "name": "ipython",
    "version": 3
   },
   "file_extension": ".py",
   "mimetype": "text/x-python",
   "name": "python",
   "nbconvert_exporter": "python",
   "pygments_lexer": "ipython3",
   "version": "3.8.5-final"
  },
  "orig_nbformat": 2,
  "kernelspec": {
   "name": "python3",
   "display_name": "Python 3",
   "language": "python"
  }
 },
 "nbformat": 4,
 "nbformat_minor": 2,
 "cells": [
  {
   "source": [
    "## 수식을 그대로 가져옴"
   ],
   "cell_type": "markdown",
   "metadata": {}
  },
  {
   "cell_type": "code",
   "execution_count": 6,
   "metadata": {},
   "outputs": [
    {
     "output_type": "stream",
     "name": "stdout",
     "text": [
      "2020-12-13 12:17:22.200134\n=SUM(1,2,3)\n=AVERAGE(1,2,3)\n10\n20\n=sum(A4:A5)\n"
     ]
    }
   ],
   "source": [
    "from openpyxl import load_workbook\n",
    "\n",
    "wb = load_workbook(\"12_formular.xlsx\")\n",
    "ws = wb.active\n",
    "\n",
    "for row in ws.values:\n",
    "    for cell in row:\n",
    "        print(cell)\n"
   ]
  },
  {
   "cell_type": "code",
   "execution_count": 4,
   "metadata": {},
   "outputs": [
    {
     "output_type": "stream",
     "name": "stdout",
     "text": [
      "2020-12-13 12:17:22.200134\n=SUM(1,2,3)\n=AVERAGE(1,2,3)\n10\n20\n=sum(A4:A5)\n"
     ]
    }
   ],
   "source": []
  },
  {
   "source": [
    " ## 수식이 아닌 실제 데이터를 가지고 오기\n",
    " ### evaluate 되지 않은 상태의 데이터는 None 이라고 표시 \n",
    " ### openpyxl 의 수식은 계산하지 않고 저장함. \n",
    " ### 사람이 한 번 열때 수식을 계산함.\n",
    " ### 이때 열어서 저장을 한 후 다시 열면 실제 수식이 계산된 값이 저장된다. "
   ],
   "cell_type": "markdown",
   "metadata": {}
  },
  {
   "cell_type": "code",
   "execution_count": 7,
   "metadata": {},
   "outputs": [
    {
     "output_type": "stream",
     "name": "stdout",
     "text": [
      "2020-12-13 12:17:22.200134\nNone\nNone\n10\n20\nNone\n"
     ]
    }
   ],
   "source": [
    "wb = load_workbook(\"12_formular.xlsx\", data_only=True)\n",
    "ws = wb.active\n",
    "for row in ws.values:\n",
    "    for cell in row:\n",
    "        print(cell)"
   ]
  },
  {
   "source": [
    "## 엑셀 파일을 한 번 열어 저장 후 아래 다시 실행\n",
    "### 정상적인 데이터가 들어가 있다. \n",
    "### openpyxl 로 수식 작업을 할 때는 주의 필요함. "
   ],
   "cell_type": "markdown",
   "metadata": {}
  },
  {
   "cell_type": "code",
   "execution_count": 8,
   "metadata": {},
   "outputs": [
    {
     "output_type": "stream",
     "name": "stdout",
     "text": [
      "2020-12-13 12:17:22.200134\n6\n2\n10\n20\n30\n"
     ]
    }
   ],
   "source": [
    "wb = load_workbook(\"12_formular.xlsx\", data_only=True)\n",
    "ws = wb.active\n",
    "for row in ws.values:\n",
    "    for cell in row:\n",
    "        print(cell)"
   ]
  },
  {
   "cell_type": "code",
   "execution_count": null,
   "metadata": {},
   "outputs": [],
   "source": []
  }
 ]
}